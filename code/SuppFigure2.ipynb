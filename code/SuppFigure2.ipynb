{
 "cells": [
  {
   "cell_type": "code",
   "execution_count": 1,
   "metadata": {},
   "outputs": [],
   "source": [
    "import pandas as pd\n",
    "import numpy as np\n",
    "import csv\n",
    "import matplotlib.pyplot as plt"
   ]
  },
  {
   "cell_type": "markdown",
   "metadata": {},
   "source": [
    "## Supp Fig. 2a - Number of variants tagging non-blood traits"
   ]
  },
  {
   "cell_type": "code",
   "execution_count": 9,
   "metadata": {},
   "outputs": [],
   "source": [
    "matched_snps = pd.read_table('../data/SuppFig2/SNPsnap_PU1_100kb_matched_snps.txt')"
   ]
  },
  {
   "cell_type": "code",
   "execution_count": 21,
   "metadata": {},
   "outputs": [
    {
     "name": "stdout",
     "output_type": "stream",
     "text": [
      "Number of PU.1 bQTLs tagging T2D GWAS variants: 2\n",
      "Total number of T2D GWAS variants: 378\n"
     ]
    }
   ],
   "source": [
    "test_snps = []\n",
    "for snp in matched_snps['Input_SNP']:\n",
    "    test_snps.append(tuple(snp.split(':')))\n",
    "\n",
    "filename = '../data/SuppFig2/t2d.leadsnps.ld'\n",
    "test_tagged = set()\n",
    "gwas_snps = []\n",
    "with open(filename, 'r') as tagging_f:\n",
    "    tagging_reader = tagging_f.readlines()\n",
    "    tagging_reader = tagging_reader[1:]\n",
    "    for row in tagging_reader:\n",
    "        row = row.strip().split()\n",
    "        snp_one = (row[0], row[1])\n",
    "        snp_two = (row[3], row[4])\n",
    "        ld = float(row[6])\n",
    "        gwas_snps.append(snp_one)\n",
    "        if snp_two in test_snps:\n",
    "            test_tagged.add(snp_one)\n",
    "gwas_snps = set(gwas_snps)\n",
    "\n",
    "print(\"Number of PU.1 bQTLs tagging T2D GWAS variants:\",len(test_tagged))\n",
    "print(\"Total number of T2D GWAS variants:\", len(gwas_snps))"
   ]
  },
  {
   "cell_type": "code",
   "execution_count": null,
   "metadata": {},
   "outputs": [],
   "source": [
    "null_set = {}\n",
    "t2d_null_tagged = []\n",
    "\n",
    "\n",
    "for i in range(250):\n",
    "    col = 'Set_' + str(i+1)\n",
    "    test_snps = []\n",
    "    for snp in matched_snps[col]:\n",
    "        test_snps.append(tuple(snp.split(':')))\n",
    "\n",
    "    filename = '../data/SuppFig2/t2d.leadsnps.ld'\n",
    "    test_tagged = set()\n",
    "    gwas_snps = []\n",
    "    with open(filename, 'r') as tagging_f:\n",
    "        tagging_reader = tagging_f.readlines()\n",
    "        tagging_reader = tagging_reader[1:]\n",
    "        for row in tagging_reader:\n",
    "            row = row.strip().split()\n",
    "            snp_one = (row[0], row[1])\n",
    "            snp_two = (row[3], row[4])\n",
    "            ld = float(row[6])\n",
    "            gwas_snps.append(snp_one)\n",
    "            if snp_two in test_snps:\n",
    "                test_tagged.add(snp_one)\n",
    "    t2d_null_tagged.append(test_tagged)\n",
    "    gwas_snps = set(gwas_snps)\n",
    "    \n",
    "    #print(len(test_tagged), len(gwas_snps))"
   ]
  },
  {
   "cell_type": "code",
   "execution_count": 22,
   "metadata": {},
   "outputs": [],
   "source": [
    "t2d_num_tag = []\n",
    "for i in range(250):\n",
    "    t2d_num_tag.append(len(t2d_null_tagged[i]))"
   ]
  },
  {
   "cell_type": "markdown",
   "metadata": {},
   "source": [
    "### Now height"
   ]
  },
  {
   "cell_type": "code",
   "execution_count": 26,
   "metadata": {},
   "outputs": [
    {
     "name": "stdout",
     "output_type": "stream",
     "text": [
      "Number of PU.1 bQTLs tagging height GWAS variants: 5\n",
      "Total number of height GWAS variants: 691\n"
     ]
    }
   ],
   "source": [
    "test_snps = []\n",
    "for snp in matched_snps['Input_SNP']:\n",
    "    test_snps.append(tuple(snp.split(':')))\n",
    "\n",
    "filename = '../data/SuppFig2/height.leadsnps.ld'\n",
    "test_tagged = set()\n",
    "gwas_snps = []\n",
    "with open(filename, 'r') as tagging_f:\n",
    "    tagging_reader = tagging_f.readlines()\n",
    "    tagging_reader = tagging_reader[1:]\n",
    "    for row in tagging_reader:\n",
    "        row = row.strip().split()\n",
    "        snp_one = (row[0], row[1])\n",
    "        snp_two = (row[3], row[4])\n",
    "        ld = float(row[6])\n",
    "        gwas_snps.append(snp_one)\n",
    "        if snp_two in test_snps:\n",
    "            test_tagged.add(snp_one)\n",
    "gwas_snps = set(gwas_snps)\n",
    "\n",
    "\n",
    "print(\"Number of PU.1 bQTLs tagging height GWAS variants:\",len(test_tagged))\n",
    "print(\"Total number of height GWAS variants:\", len(gwas_snps))"
   ]
  },
  {
   "cell_type": "code",
   "execution_count": 29,
   "metadata": {},
   "outputs": [],
   "source": [
    "height_null_set = {}\n",
    "height_null_tagged = []\n",
    "\n",
    "for i in range(250):\n",
    "    col = 'Set_' + str(i+1)\n",
    "    test_snps = []\n",
    "    for snp in matched_snps[col]:\n",
    "        test_snps.append(tuple(snp.split(':')))\n",
    "\n",
    "    filename = '../data/SuppFig2/height.leadsnps.ld'\n",
    "    test_tagged = set()\n",
    "    gwas_snps = []\n",
    "    with open(filename, 'r') as tagging_f:\n",
    "        tagging_reader = tagging_f.readlines()\n",
    "        tagging_reader = tagging_reader[1:]\n",
    "        for row in tagging_reader:\n",
    "            row = row.strip().split()\n",
    "            snp_one = (row[0], row[1])\n",
    "            snp_two = (row[3], row[4])\n",
    "            ld = float(row[6])\n",
    "            gwas_snps.append(snp_one)\n",
    "            if snp_two in test_snps:\n",
    "                test_tagged.add(snp_one)\n",
    "    height_null_tagged.append(test_tagged)\n",
    "    gwas_snps = set(gwas_snps)"
   ]
  },
  {
   "cell_type": "code",
   "execution_count": 30,
   "metadata": {},
   "outputs": [],
   "source": [
    "height_num_tag = []\n",
    "for i in range(250):\n",
    "    height_num_tag.append(len(height_null_tagged[i]))"
   ]
  },
  {
   "cell_type": "code",
   "execution_count": 67,
   "metadata": {},
   "outputs": [
    {
     "name": "stderr",
     "output_type": "stream",
     "text": [
      "/Users/raehoon/anaconda3/lib/python3.6/site-packages/matplotlib/figure.py:459: UserWarning: matplotlib is currently using a non-GUI backend, so cannot show the figure\n",
      "  \"matplotlib is currently using a non-GUI backend, \"\n"
     ]
    },
    {
     "data": {
      "image/png": "[encoded data removed]",
      "text/plain": [
       "<Figure size 1440x504 with 2 Axes>"
      ]
     },
     "metadata": {},
     "output_type": "display_data"
    }
   ],
   "source": [
    "fig, ax = plt.subplots(1, 2, figsize=(20,7))\n",
    "\n",
    "ax[0].hist(t2d_num_tag, bins=np.array(range(8)) - 0.5, rwidth=0.55, color='black')\n",
    "ax[0].axvline(x = 2, color = 'r')\n",
    "ax[0].set_xticks(range(0,7,2))\n",
    "ax[0].tick_params(axis='both', which='major', labelsize=16)\n",
    "ax[0].set_xlabel('# of variants tagging (r2>0.8) T2D associations', fontsize = 16)\n",
    "\n",
    "ax[1].hist(height_num_tag, bins=np.array(range(16)) - 0.5, rwidth=0.55, color='black')\n",
    "ax[1].axvline(x = 8, color = 'r')\n",
    "ax[1].set_xticks(range(0,15,2))\n",
    "ax[1].tick_params(axis='both', which='major', labelsize=16)\n",
    "ax[1].set_xlabel('# of variants tagging (r2>0.8) Height associations', fontsize = 16)\n",
    "\n",
    "fig.savefig('../figures/Supp2_a.pdf')\n",
    "fig.show()"
   ]
  },
  {
   "cell_type": "markdown",
   "metadata": {},
   "source": [
    "## Supp Fig. 2b - Reading PU.1 PWM motif data"
   ]
  },
  {
   "cell_type": "code",
   "execution_count": 3,
   "metadata": {},
   "outputs": [],
   "source": [
    "PU1_pwm = pd.read_table('../data/SuppFig2/PU1.peaks.pwmscan.cisbp_1e5.bed', delimiter='\\t', header=None)"
   ]
  },
  {
   "cell_type": "code",
   "execution_count": 68,
   "metadata": {},
   "outputs": [
    {
     "data": {
      "image/png": "[encoded data removed]",
      "text/plain": [
       "<Figure size 720x504 with 1 Axes>"
      ]
     },
     "metadata": {},
     "output_type": "display_data"
    }
   ],
   "source": [
    "motif_pos = []\n",
    "for i in range(PU1_pwm.shape[0]):\n",
    "    if PU1_pwm[9][i] == '+':\n",
    "        motif_pos.append(PU1_pwm[6][i] - PU1_pwm[1][i] - 100)\n",
    "    elif PU1_pwm[9][i] == '-':\n",
    "        motif_pos.append(PU1_pwm[2][i] - PU1_pwm[5][i] - 100)\n",
    "    \n",
    "    \n",
    "plt.figure(figsize = (10, 7)) \n",
    "\n",
    "# We can set the number of bins with the `bins` kwarg\n",
    "motif_pos_counts = plt.hist(motif_pos, bins= 200, color = 'black')#, bins=np.array(range(0,200)))#, rwidth=0.55, color='black')\n",
    "#axs[1].hist(blood_total, bins=100)\n",
    "\n",
    "\n",
    "plt.xticks(fontsize=16)\n",
    "plt.yticks(fontsize=16)\n",
    "plt.xlabel('Distance from peak center', fontsize = 16)\n",
    "plt.ylabel('Frequency', fontsize = 16)\n",
    "\n",
    "plt.savefig('../figures/Supp2_b.pdf')\n",
    "plt.show()\n"
   ]
  },
  {
   "cell_type": "code",
   "execution_count": null,
   "metadata": {},
   "outputs": [],
   "source": []
  }
 ],
 "metadata": {
  "kernelspec": {
   "display_name": "Python 3",
   "language": "python",
   "name": "python3"
  },
  "language_info": {
   "codemirror_mode": {
    "name": "ipython",
    "version": 3
   },
   "file_extension": ".py",
   "mimetype": "text/x-python",
   "name": "python",
   "nbconvert_exporter": "python",
   "pygments_lexer": "ipython3",
   "version": "3.6.8"
  }
 },
 "nbformat": 4,
 "nbformat_minor": 2
}
