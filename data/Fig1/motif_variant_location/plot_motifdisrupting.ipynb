{
 "cells": [
  {
   "cell_type": "code",
   "execution_count": 2,
   "metadata": {},
   "outputs": [],
   "source": [
    "import pandas as pd\n",
    "import numpy as np\n",
    "import csv\n",
    "import matplotlib.pyplot as plt"
   ]
  },
  {
   "cell_type": "markdown",
   "metadata": {},
   "source": [
    "## First, reading in PU.1 bQTL data\n",
    "We store the peak names of significant PU.1 bQTL"
   ]
  },
  {
   "cell_type": "code",
   "execution_count": 3,
   "metadata": {},
   "outputs": [],
   "source": [
    "# bqtl[0] is the list of significant bQTL\n",
    "bqtl = pd.read_table('PU1.nominal.lead.centered.noSV.K10.txt', delimiter=' ', header=None)"
   ]
  },
  {
   "cell_type": "code",
   "execution_count": 9,
   "metadata": {},
   "outputs": [],
   "source": [
    "bqtl_dict = {}\n",
    "for i in range(bqtl.shape[0]):\n",
    "    peakname = bqtl[0][i]\n",
    "    varpos = bqtl[9][i]\n",
    "    pval = bqtl[11][i]\n",
    "    rsid = bqtl[7][i]\n",
    "    bqtl_dict[peakname] = [varpos,pval,rsid]"
   ]
  },
  {
   "cell_type": "markdown",
   "metadata": {},
   "source": [
    "## Reading motif score predictions"
   ]
  },
  {
   "cell_type": "code",
   "execution_count": 19,
   "metadata": {},
   "outputs": [],
   "source": [
    "motifdisrupting = pd.read_table('PU1.pwm_gkmsvm.nominal.txt', delimiter='\\t', header=None)"
   ]
  },
  {
   "cell_type": "markdown",
   "metadata": {},
   "source": [
    "## Reading in LD data\n",
    "This is to determine whether the PU.1 motif-altering variants are in LD ($r^2 > 0.8$) with PU.1 bQTL lead variants."
   ]
  },
  {
   "cell_type": "code",
   "execution_count": 6,
   "metadata": {},
   "outputs": [],
   "source": [
    "all_bqtl = pd.read_table('PU1.nominal.all.variants.txt', delimiter=' ', header=None)\n",
    "ld = pd.read_table('PU1.leadsnps.r2_0.8.ld.txt', delimiter='\\t', header=0)"
   ]
  },
  {
   "cell_type": "code",
   "execution_count": 7,
   "metadata": {},
   "outputs": [],
   "source": [
    "ld_dict = {}\n",
    "for i in range(ld.shape[0]):\n",
    "    if ld['SNP_A'][i] in ld_dict:\n",
    "        ld_dict[ld['SNP_A'][i]].append(ld['SNP_B'][i])\n",
    "    else:            \n",
    "        ld_dict[ld['SNP_A'][i]] = [ld['SNP_B'][i]]"
   ]
  },
  {
   "cell_type": "markdown",
   "metadata": {},
   "source": [
    "## Determining the significant bQTLs that is closest to the center of the peak"
   ]
  },
  {
   "cell_type": "code",
   "execution_count": 10,
   "metadata": {},
   "outputs": [],
   "source": [
    "closest_bqtl_dict = {}\n",
    "#print(all_bqtl.head())\n",
    "for i in range(all_bqtl.shape[0]):\n",
    "    peakname = all_bqtl[0][i]\n",
    "    varpos = all_bqtl[9][i]\n",
    "    pval = all_bqtl[11][i]\n",
    "    rsid = all_bqtl[7][i]\n",
    "    dist = all_bqtl[6][i]\n",
    "    if peakname in bqtl_dict:\n",
    "        if rsid in ld_dict[bqtl_dict[peakname][2]]:\n",
    "            if peakname not in closest_bqtl_dict:\n",
    "                closest_bqtl_dict[peakname] = [varpos,pval,rsid,dist]\n",
    "            else:\n",
    "                if abs(dist) < abs(closest_bqtl_dict[peakname][3]):\n",
    "                    closest_bqtl_dict[peakname] = [varpos,pval,rsid,dist]"
   ]
  },
  {
   "cell_type": "code",
   "execution_count": 17,
   "metadata": {},
   "outputs": [],
   "source": [
    "mask = []\n",
    "vals = []\n",
    "count = 0\n",
    "pu1motif_dict = {}\n",
    "for i in range(motifdisrupting.shape[0]):\n",
    "    peakname = motifdisrupting[3][i]\n",
    "    pval = motifdisrupting[17][i]\n",
    "    ref = motifdisrupting[12][i]\n",
    "    alt = motifdisrupting[13][i]\n",
    "    rsid = motifdisrupting[4][i]\n",
    "    \n",
    "    test = False\n",
    "    if peakname in list(bqtl[0]):\n",
    "        if pval < 5e-2 and min(ref, alt) > 0:\n",
    "            if rsid in ld_dict[bqtl_dict[peakname][2]]:\n",
    "                dist = motifdisrupting[5][i] - motifdisrupting[1][i] - 100 - 1\n",
    "                test = True\n",
    "                if peakname not in pu1motif_dict:\n",
    "                    pu1motif_dict[peakname] = dist\n",
    "                elif abs(dist) < abs(pu1motif_dict[peakname]):\n",
    "                    pu1motif_dict[peakname] = dist\n",
    "    mask.append(test)\n",
    "\n",
    "mask = pd.Series(mask)"
   ]
  },
  {
   "cell_type": "code",
   "execution_count": 22,
   "metadata": {},
   "outputs": [],
   "source": [
    "vals = []\n",
    "for peak in pu1motif_dict:\n",
    "    vals.append(pu1motif_dict[peak])"
   ]
  },
  {
   "cell_type": "markdown",
   "metadata": {},
   "source": [
    "## Plotting the positions of PU.1 motif-altering variants\n",
    "We visually see that PU.1 motif-altering variants are concentrated in the center of the peak."
   ]
  },
  {
   "cell_type": "code",
   "execution_count": 16,
   "metadata": {},
   "outputs": [
    {
     "data": {
      "image/png": "[encoded data removed]",
      "text/plain": [
       "<Figure size 1080x720 with 1 Axes>"
      ]
     },
     "metadata": {},
     "output_type": "display_data"
    }
   ],
   "source": [
    "plt.figure(figsize = (15, 10)) \n",
    "\n",
    "# We can set the number of bins with the `bins` kwarg\n",
    "counts = plt.hist(vals, bins=np.array(range(-100,100)))#, rwidth=0.55, color='black')\n",
    "#axs[1].hist(blood_total, bins=100)\n",
    "\n",
    "#plt.axvline(x = 94, color = 'r')\n",
    "plt.xticks(fontsize=16)\n",
    "plt.yticks(fontsize=16)\n",
    "#plt.xlabel('# of variants tagging (r2>0.8) blood cell trait associations', fontsize = 16)\n",
    "plt.show()"
   ]
  },
  {
   "cell_type": "markdown",
   "metadata": {},
   "source": [
    "## Counting how many PU.1 bQTLs have PU.1 motif-altering variants within the 50 bp center"
   ]
  },
  {
   "cell_type": "code",
   "execution_count": 26,
   "metadata": {},
   "outputs": [],
   "source": [
    "counts = [0,0,0,0,0]\n",
    "for peak in closest_bqtl_dict:\n",
    "    if peak in pu1motif_dict:\n",
    "        if abs(pu1motif_dict[peak]) <= 25:\n",
    "            counts[0] += 1\n",
    "        else:\n",
    "            counts[1] += 1\n",
    "    else:\n",
    "        if abs(closest_bqtl_dict[peak][3]) <= 25:\n",
    "            counts[2] += 1\n",
    "        elif abs(closest_bqtl_dict[peak][3]) <= 100:\n",
    "            counts[3] += 1\n",
    "        else:\n",
    "            counts[4] += 1"
   ]
  },
  {
   "cell_type": "code",
   "execution_count": 27,
   "metadata": {},
   "outputs": [
    {
     "data": {
      "text/plain": [
       "[316, 38, 453, 241, 392]"
      ]
     },
     "execution_count": 27,
     "metadata": {},
     "output_type": "execute_result"
    }
   ],
   "source": [
    "counts"
   ]
  },
  {
   "cell_type": "code",
   "execution_count": 34,
   "metadata": {},
   "outputs": [],
   "source": [
    "df = pd.DataFrame({\"location\": ['Center 50 bp', 'Elsewhere', 'Center 50 bp', 'Elsewhere'],\n",
    "                  \"pu1motif\": ['motif', 'motif', 'none', 'none'],\n",
    "                  \"number\": counts[:4]})"
   ]
  },
  {
   "cell_type": "code",
   "execution_count": 35,
   "metadata": {},
   "outputs": [],
   "source": [
    "df.to_csv(\"../motif_variant_location.txt\", sep='\\t', index=False)"
   ]
  },
  {
   "cell_type": "code",
   "execution_count": null,
   "metadata": {},
   "outputs": [],
   "source": []
  }
 ],
 "metadata": {
  "kernelspec": {
   "display_name": "Python 3",
   "language": "python",
   "name": "python3"
  },
  "language_info": {
   "codemirror_mode": {
    "name": "ipython",
    "version": 3
   },
   "file_extension": ".py",
   "mimetype": "text/x-python",
   "name": "python",
   "nbconvert_exporter": "python",
   "pygments_lexer": "ipython3",
   "version": "3.6.8"
  }
 },
 "nbformat": 4,
 "nbformat_minor": 2
}
